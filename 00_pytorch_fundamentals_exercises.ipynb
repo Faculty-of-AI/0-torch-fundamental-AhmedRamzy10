{
  "cells": [
    {
      "cell_type": "markdown",
      "metadata": {
        "id": "AzDBM_v4iMe7"
      },
      "source": [
        "# 00. PyTorch Fundamentals Exercises\n",
        "\n",
        "### 1. Documentation reading\n",
        "\n",
        "A big part of deep learning (and learning to code in general) is getting familiar with the documentation of a certain framework you're using. We'll be using the PyTorch documentation a lot throughout the rest of this course. So I'd recommend spending 10-minutes reading the following (it's okay if you don't get some things for now, the focus is not yet full understanding, it's awareness):\n",
        "  * The documentation on [`torch.Tensor`](https://pytorch.org/docs/stable/tensors.html#torch-tensor).\n",
        "  * The documentation on [`torch.cuda`](https://pytorch.org/docs/master/notes/cuda.html#cuda-semantics).\n",
        "\n"
      ]
    },
    {
      "cell_type": "code",
      "execution_count": 3,
      "metadata": {
        "id": "bGD0oD8Kizak"
      },
      "outputs": [],
      "source": [
        "# No code solution (reading)"
      ]
    },
    {
      "cell_type": "markdown",
      "metadata": {
        "id": "__iXqqz-ioUJ"
      },
      "source": [
        "### 2. Create a random tensor with shape `(7, 7)`.\n"
      ]
    },
    {
      "cell_type": "code",
      "execution_count": 4,
      "metadata": {
        "id": "6pUq9Dc8i2L7",
        "colab": {
          "base_uri": "https://localhost:8080/"
        },
        "outputId": "ca6368f9-2375-430e-a430-c25f6a0dcc37"
      },
      "outputs": [
        {
          "output_type": "stream",
          "name": "stdout",
          "text": [
            "tensor([[0.3923, 0.4803, 0.9709, 0.4282, 0.4654, 0.4871, 0.3922],\n",
            "        [0.3676, 0.3539, 0.3871, 0.8803, 0.6091, 0.9626, 0.8511],\n",
            "        [0.7484, 0.8120, 0.2739, 0.0546, 0.9928, 0.7495, 0.3023],\n",
            "        [0.1104, 0.0249, 0.1956, 0.0064, 0.5578, 0.2226, 0.8620],\n",
            "        [0.8582, 0.7322, 0.2975, 0.9729, 0.2512, 0.6880, 0.9148],\n",
            "        [0.8529, 0.9403, 0.9436, 0.8150, 0.6997, 0.4360, 0.6361],\n",
            "        [0.8131, 0.7391, 0.8816, 0.5815, 0.3092, 0.6450, 0.0184]])\n"
          ]
        }
      ],
      "source": [
        "# Import torch\n",
        "import torch\n",
        "\n",
        "# Create random tensor\n",
        "tensor1 = torch.rand(7,7)\n",
        "print(tensor1)"
      ]
    },
    {
      "cell_type": "markdown",
      "metadata": {
        "id": "9-XxvRLfiqkR"
      },
      "source": [
        "### 3. Perform a matrix multiplication on the tensor from 2 with another random tensor with shape `(1, 7)` (hint: you may have to transpose the second tensor)."
      ]
    },
    {
      "cell_type": "code",
      "execution_count": 5,
      "metadata": {
        "id": "NcLqR0Sbi_vT",
        "colab": {
          "base_uri": "https://localhost:8080/"
        },
        "outputId": "712ad71d-689b-4f13-c472-0efdeaee4cac"
      },
      "outputs": [
        {
          "output_type": "stream",
          "name": "stdout",
          "text": [
            "tensor([[1.4479],\n",
            "        [1.7172],\n",
            "        [1.6799],\n",
            "        [0.6353],\n",
            "        [1.6733],\n",
            "        [1.8450],\n",
            "        [1.7366]])\n"
          ]
        }
      ],
      "source": [
        "# Create another random tensor\n",
        "tensor2 = torch.rand(1,7)\n",
        "# Perform matrix multiplication\n",
        "tensor2_t = tensor2.t()\n",
        "result = tensor1@tensor2_t\n",
        "print(result)"
      ]
    },
    {
      "cell_type": "markdown",
      "metadata": {
        "id": "eiutdKUFiryU"
      },
      "source": [
        "### 4. Set the random seed to `0` and do 2 & 3 over again.\n",
        "\n",
        "The output should be:\n",
        "```\n",
        "(tensor([[1.8542],\n",
        "         [1.9611],\n",
        "         [2.2884],\n",
        "         [3.0481],\n",
        "         [1.7067],\n",
        "         [2.5290],\n",
        "         [1.7989]]), torch.Size([7, 1]))\n",
        "```"
      ]
    },
    {
      "cell_type": "code",
      "execution_count": 6,
      "metadata": {
        "id": "D-lOWI_1jRMm",
        "colab": {
          "base_uri": "https://localhost:8080/"
        },
        "outputId": "bd1197f5-a9e7-4e1b-b835-b6c49cb3e6f1"
      },
      "outputs": [
        {
          "output_type": "stream",
          "name": "stdout",
          "text": [
            "tensor([[1.8542],\n",
            "        [1.9611],\n",
            "        [2.2884],\n",
            "        [3.0481],\n",
            "        [1.7067],\n",
            "        [2.5290],\n",
            "        [1.7989]])\n"
          ]
        }
      ],
      "source": [
        "# Set manual seed\n",
        "torch.manual_seed(0)\n",
        "\n",
        "# Create two random tensors\n",
        "tensor3 = torch.rand(7,7)\n",
        "tensor4 = torch.rand(7,1)\n",
        "# Matrix multiply tensors\n",
        "result2 = tensor3@tensor4\n",
        "print(result2)"
      ]
    },
    {
      "cell_type": "markdown",
      "metadata": {
        "id": "ezY6ks9Cis37"
      },
      "source": [
        "### 5. Speaking of random seeds, we saw how to set it with `torch.manual_seed()` but is there a GPU equivalent? (hint: you'll need to look into the documentation for `torch.cuda` for this one)\n",
        "  * If there is, set the GPU random seed to `1234`."
      ]
    },
    {
      "cell_type": "code",
      "execution_count": 7,
      "metadata": {
        "id": "_LKWcfSTjp00"
      },
      "outputs": [],
      "source": [
        "# Set random seed on the GPU\n",
        "torch.cuda.manual_seed(1234)"
      ]
    },
    {
      "cell_type": "markdown",
      "metadata": {
        "id": "Ir9qSaj6it4n"
      },
      "source": [
        "\n",
        "### 6. Create two random tensors of shape `(2, 3)` and send them both to the GPU (you'll need access to a GPU for this). Set `torch.manual_seed(1234)` when creating the tensors (this doesn't have to be the GPU random seed). The output should be something like:\n",
        "\n",
        "```\n",
        "Device: cuda\n",
        "(tensor([[0.0290, 0.4019, 0.2598],\n",
        "         [0.3666, 0.0583, 0.7006]], device='cuda:0'),\n",
        " tensor([[0.0518, 0.4681, 0.6738],\n",
        "         [0.3315, 0.7837, 0.5631]], device='cuda:0'))\n",
        "```"
      ]
    },
    {
      "cell_type": "code",
      "execution_count": 8,
      "metadata": {
        "id": "azXExiFZj5nm",
        "colab": {
          "base_uri": "https://localhost:8080/"
        },
        "outputId": "6b1c6830-3022-4b86-9f88-e3b53d20f5f2"
      },
      "outputs": [
        {
          "output_type": "stream",
          "name": "stdout",
          "text": [
            "Device: cuda\n",
            "(tensor([[0.1272, 0.8167, 0.5440],\n",
            "        [0.6601, 0.2721, 0.9737]], device='cuda:0'), tensor([[0.6208, 0.0276, 0.3255],\n",
            "        [0.1114, 0.6812, 0.3608]], device='cuda:0'))\n"
          ]
        }
      ],
      "source": [
        "# Set random seed\n",
        "torch.manual_seed(1234)\n",
        "\n",
        "# Check for access to GPU\n",
        "device=\"cuda\" if torch.cuda.is_available() else \"cpu\"\n",
        "print(\"Device:\", device)\n",
        "# Create two random tensors on GPU\n",
        "tensor5 = torch.rand(2, 3, device=device)\n",
        "tensor6 = torch.rand(2, 3, device=device)\n",
        "print((tensor5, tensor6))"
      ]
    },
    {
      "cell_type": "markdown",
      "metadata": {
        "id": "5TlAxeiSiu1y"
      },
      "source": [
        "\n",
        "### 7. Perform a matrix multiplication on the tensors you created in 6 (again, you may have to adjust the shapes of one of the tensors).\n",
        "\n",
        "The output should look like:\n",
        "```\n",
        "(tensor([[0.3647, 0.4709],\n",
        "         [0.5184, 0.5617]], device='cuda:0'), torch.Size([2, 2]))\n",
        "```"
      ]
    },
    {
      "cell_type": "code",
      "execution_count": 12,
      "metadata": {
        "id": "fAeG7ox0lHEO",
        "colab": {
          "base_uri": "https://localhost:8080/"
        },
        "outputId": "7fb80433-8c17-43bc-8d38-776c6b067ae5"
      },
      "outputs": [
        {
          "output_type": "stream",
          "name": "stdout",
          "text": [
            "(tensor([[0.2786, 0.7668],\n",
            "        [0.7343, 0.6102]], device='cuda:0'), torch.Size([2, 2]))\n"
          ]
        }
      ],
      "source": [
        "# Perform matmul on tensor_A and tensor_B\n",
        "result3 = torch.matmul(tensor5, tensor6.T)\n",
        "print((result3, result3.shape))"
      ]
    },
    {
      "cell_type": "markdown",
      "metadata": {
        "id": "G7qfa5CSivwg"
      },
      "source": [
        "### 8. Find the maximum and minimum values of the output of 7."
      ]
    },
    {
      "cell_type": "code",
      "execution_count": 15,
      "metadata": {
        "id": "Fu8_3mZpllOd",
        "colab": {
          "base_uri": "https://localhost:8080/"
        },
        "outputId": "a11c9c9c-df6d-43d1-d30c-9bf037662fac"
      },
      "outputs": [
        {
          "output_type": "stream",
          "name": "stdout",
          "text": [
            "max_value: tensor(0.7668, device='cuda:0')\n",
            "min_value: tensor(0.2786, device='cuda:0')\n"
          ]
        }
      ],
      "source": [
        "# Find max\n",
        "max_val = torch.max(result3)\n",
        "print(\"max_value:\" , max_val)\n",
        "# Find min\n",
        "min_val = torch.min(result3)\n",
        "print(\"min_value:\" , min_val)"
      ]
    },
    {
      "cell_type": "markdown",
      "metadata": {
        "id": "wrTj5FgNiw47"
      },
      "source": [
        "### 9. Find the maximum and minimum index values of the output of 7."
      ]
    },
    {
      "cell_type": "code",
      "execution_count": 16,
      "metadata": {
        "id": "CCEKt4K2lsfQ",
        "colab": {
          "base_uri": "https://localhost:8080/"
        },
        "outputId": "23f44360-1daa-43d3-8113-a1c10d046643"
      },
      "outputs": [
        {
          "output_type": "stream",
          "name": "stdout",
          "text": [
            "max_index: tensor(1, device='cuda:0')\n",
            "min_index: tensor(0, device='cuda:0')\n"
          ]
        }
      ],
      "source": [
        "# Find arg max\n",
        "max_ind = torch.argmax(result3)\n",
        "print(\"max_index:\" , max_ind)\n",
        "# Find arg min\n",
        "min_ind = torch.argmin(result3)\n",
        "print(\"min_index:\" , min_ind)"
      ]
    },
    {
      "cell_type": "markdown",
      "metadata": {
        "id": "hmeybz4uixy7"
      },
      "source": [
        "**bold text**\n",
        "### 10. Make a random tensor with shape `(1, 1, 1, 10)` and then create a new tensor with all the `1` dimensions removed to be left with a tensor of shape `(10)`. Set the seed to `7` when you create it and print out the first tensor and it's shape as well as the second tensor and it's shape.\n",
        "\n",
        "The output should look like:\n",
        "\n",
        "```\n",
        "tensor([[[[0.5349, 0.1988, 0.6592, 0.6569, 0.2328, 0.4251, 0.2071, 0.6297,\n",
        "           0.3653, 0.8513]]]]) torch.Size([1, 1, 1, 10])\n",
        "tensor([0.5349, 0.1988, 0.6592, 0.6569, 0.2328, 0.4251, 0.2071, 0.6297, 0.3653,\n",
        "        0.8513]) torch.Size([10])\n",
        "```"
      ]
    },
    {
      "cell_type": "code",
      "execution_count": 18,
      "metadata": {
        "id": "TQ9zbRzVl1jV",
        "colab": {
          "base_uri": "https://localhost:8080/"
        },
        "outputId": "2654f593-8a30-4c5e-b7c4-04aa68fafc53"
      },
      "outputs": [
        {
          "output_type": "stream",
          "name": "stdout",
          "text": [
            "tensor([[[[0.5349, 0.1988, 0.6592, 0.6569, 0.2328, 0.4251, 0.2071, 0.6297,\n",
            "           0.3653, 0.8513]]]]) torch.Size([1, 1, 1, 10])\n",
            "tensor([0.5349, 0.1988, 0.6592, 0.6569, 0.2328, 0.4251, 0.2071, 0.6297, 0.3653,\n",
            "        0.8513]) torch.Size([10])\n"
          ]
        }
      ],
      "source": [
        "# Set seed\n",
        "torch.manual_seed(7)\n",
        "\n",
        "# Create random tensor\n",
        "tensor7 = torch.rand(1, 1, 1, 10)\n",
        "\n",
        "# Remove single dimensions\n",
        "tensor7_squeezed = tensor7.squeeze()\n",
        "\n",
        "# Print out tensors and their shapes\n",
        "print(tensor7, tensor7.shape)\n",
        "print(tensor7_squeezed, tensor7_squeezed.shape)"
      ]
    }
  ],
  "metadata": {
    "accelerator": "GPU",
    "colab": {
      "provenance": []
    },
    "kernelspec": {
      "display_name": "Python 3",
      "name": "python3"
    },
    "language_info": {
      "codemirror_mode": {
        "name": "ipython",
        "version": 3
      },
      "file_extension": ".py",
      "mimetype": "text/x-python",
      "name": "python",
      "nbconvert_exporter": "python",
      "pygments_lexer": "ipython3",
      "version": "3.13.3"
    }
  },
  "nbformat": 4,
  "nbformat_minor": 0
}